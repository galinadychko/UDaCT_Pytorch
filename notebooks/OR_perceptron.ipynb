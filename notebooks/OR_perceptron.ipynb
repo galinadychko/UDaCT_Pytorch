{
 "cells": [
  {
   "cell_type": "code",
   "execution_count": 1,
   "metadata": {
    "ExecuteTime": {
     "end_time": "2019-08-20T09:14:20.882615Z",
     "start_time": "2019-08-20T09:14:20.375025Z"
    }
   },
   "outputs": [],
   "source": [
    "import numpy as np\n",
    "import pandas as pd\n",
    "\n",
    "import matplotlib\n",
    "from matplotlib import pyplot as plt"
   ]
  },
  {
   "cell_type": "markdown",
   "metadata": {},
   "source": [
    "<div class=\"alert alert-block alert-info\">\n",
    "<b> Task:</b>\n",
    "<hr>\n",
    "\n",
    "Set \n",
    "\n",
    "    * the weights: weight1, weight2 \n",
    "    * the bias:    bias \n",
    "    \n",
    "to values that will correctly determine the <u><b>OR</b></u> operation as shown above.<br/>\n",
    "More than one set of values will work!\n",
    "\n",
    "<div/>"
   ]
  },
  {
   "cell_type": "markdown",
   "metadata": {},
   "source": [
    "<div class=\"alert alert-success\" role=\"alert\">\n",
    "<a href=\"#\" class=\"close\" data-dismiss=\"alert\" aria-label=\"close\">&times;</a>\n",
    "  <i class=\"fa fa-question-circle\" style=\"font-size:22px;color:green\"></i> <strong><u> Find appropriate weights: </u></strong> <br/>\n",
    "    <hr>\n",
    "    $$ weight1 * x_1 + weight2 * x_2 + bias = 0$$<br/>\n",
    "    <b><u>Such that:</u></b><br/>\n",
    "    * if ... > 0 => positive class (True) <br/>\n",
    "    * if ... < 0 => negative class (False)<br/>\n",
    "</div>"
   ]
  },
  {
   "cell_type": "code",
   "execution_count": 2,
   "metadata": {
    "ExecuteTime": {
     "end_time": "2019-08-20T09:14:20.888819Z",
     "start_time": "2019-08-20T09:14:20.884420Z"
    }
   },
   "outputs": [],
   "source": [
    "# TODO: Set weight1, weight2, and bias\n",
    "\n",
    "weight1 = .9\n",
    "weight2 = .9\n",
    "bias = -.8"
   ]
  },
  {
   "cell_type": "code",
   "execution_count": 3,
   "metadata": {
    "ExecuteTime": {
     "end_time": "2019-08-20T09:14:20.899697Z",
     "start_time": "2019-08-20T09:14:20.893466Z"
    }
   },
   "outputs": [],
   "source": [
    "# DON'T CHANGE ANYTHING BELOW\n",
    "# Inputs and outputs\n",
    "test_inputs = [(0, 0), (0, 1), (1, 0), (1, 1)]\n",
    "correct_outputs = [False, True, True, True]"
   ]
  },
  {
   "cell_type": "code",
   "execution_count": 4,
   "metadata": {
    "ExecuteTime": {
     "end_time": "2019-08-20T09:14:20.911411Z",
     "start_time": "2019-08-20T09:14:20.902035Z"
    }
   },
   "outputs": [],
   "source": [
    "def line(x, w1, w2, b):\n",
    "    return list(map(lambda elem: (-b - elem * w1) / w2, x))"
   ]
  },
  {
   "cell_type": "code",
   "execution_count": 5,
   "metadata": {
    "ExecuteTime": {
     "end_time": "2019-08-20T09:14:20.925941Z",
     "start_time": "2019-08-20T09:14:20.913273Z"
    }
   },
   "outputs": [],
   "source": [
    "x1, x2 = zip(*test_inputs)\n",
    "x = np.arange(-0.2, 1.3, 0.1)\n",
    "y = line(x, weight1, weight2, bias)"
   ]
  },
  {
   "cell_type": "code",
   "execution_count": 6,
   "metadata": {
    "ExecuteTime": {
     "end_time": "2019-08-20T09:14:21.251416Z",
     "start_time": "2019-08-20T09:14:20.927976Z"
    }
   },
   "outputs": [
    {
     "data": {
      "image/png": "[encoded data removed]",
      "text/plain": [
       "<Figure size 432x288 with 1 Axes>"
      ]
     },
     "metadata": {
      "needs_background": "light"
     },
     "output_type": "display_data"
    }
   ],
   "source": [
    "matplotlib.rc('axes',edgecolor='lightgray')\n",
    "\n",
    "plt.plot(x, y, \"-\", color=\"red\", \n",
    "         label=\"boundary\")\n",
    "t1 = plt.Polygon(np.array([[x[0], y[0]], [x[0], 1.2], [1.2, 1.2], [x[-1], y[-1]]]), \n",
    "                 color=\"red\", alpha=0.2, hatch=\"/\",\n",
    "                 label=\"positive class\")\n",
    "t2 = plt.Polygon(np.array([[x[0], y[0]], [-.2, -.2],  [-.2, -.29], [x[-1], y[-1]]]), \n",
    "                 color=\"blue\", alpha=0.2,  hatch=\"\\\\\", \n",
    "                 label=\"negative class\")\n",
    "plt.gca().add_patch(t1)\n",
    "plt.gca().add_patch(t2)\n",
    "plt.scatter(x1, x2, color=\"darkgreen\", alpha=1)\n",
    "\n",
    "plt.ylabel('y')\n",
    "plt.xlabel('x')\n",
    "plt.title(\"Perceptron for AND function\", fontdict={\"size\":20})\n",
    "\n",
    "plt.grid(alpha=0.3)\n",
    "plt.legend(loc='upper right', bbox_to_anchor=(1.4,1.))\n",
    "plt.show()"
   ]
  },
  {
   "cell_type": "code",
   "execution_count": 7,
   "metadata": {
    "ExecuteTime": {
     "end_time": "2019-08-20T09:14:21.260721Z",
     "start_time": "2019-08-20T09:14:21.253945Z"
    }
   },
   "outputs": [],
   "source": [
    "# Generate and check output\n",
    "outputs = []\n",
    "for test_input, correct_output in zip(test_inputs, correct_outputs):\n",
    "    linear_combination = weight1 * test_input[0] + weight2 * test_input[1] + bias\n",
    "    output = int(linear_combination >= 0)\n",
    "    is_correct_string = 'Yes' if output == correct_output else 'No'\n",
    "    outputs.append([test_input[0], test_input[1], linear_combination, output, is_correct_string])\n"
   ]
  },
  {
   "cell_type": "code",
   "execution_count": 8,
   "metadata": {
    "ExecuteTime": {
     "end_time": "2019-08-20T09:14:21.288198Z",
     "start_time": "2019-08-20T09:14:21.268375Z"
    }
   },
   "outputs": [
    {
     "name": "stdout",
     "output_type": "stream",
     "text": [
      "Nice!  You got it all correct.\n",
      "\n",
      " Input 1    Input 2    Linear Combination    Activation Output   Is Correct\n",
      "       0          0                  -0.8                    0          Yes\n",
      "       0          1                   0.1                    1          Yes\n",
      "       1          0                   0.1                    1          Yes\n",
      "       1          1                   1.0                    1          Yes\n"
     ]
    }
   ],
   "source": [
    "# Print output\n",
    "num_wrong = len([output[4] for output in outputs if output[4] == 'No'])\n",
    "output_frame = pd.DataFrame(outputs, columns=['Input 1', '  Input 2', '  Linear Combination', '  Activation Output', '  Is Correct'])\n",
    "if not num_wrong:\n",
    "    print('Nice!  You got it all correct.\\n')\n",
    "else:\n",
    "    print('You got {} wrong.  Keep trying!\\n'.format(num_wrong))\n",
    "print(output_frame.to_string(index=False))\n",
    "\n"
   ]
  }
 ],
 "metadata": {
  "hide_input": false,
  "kernelspec": {
   "display_name": "UDaCT",
   "language": "python",
   "name": "udact"
  },
  "language_info": {
   "codemirror_mode": {
    "name": "ipython",
    "version": 3
   },
   "file_extension": ".py",
   "mimetype": "text/x-python",
   "name": "python",
   "nbconvert_exporter": "python",
   "pygments_lexer": "ipython3",
   "version": "3.7.4"
  },
  "toc": {
   "base_numbering": 1,
   "nav_menu": {},
   "number_sections": true,
   "sideBar": true,
   "skip_h1_title": false,
   "title_cell": "Table of Contents",
   "title_sidebar": "Contents",
   "toc_cell": false,
   "toc_position": {},
   "toc_section_display": true,
   "toc_window_display": false
  },
  "varInspector": {
   "cols": {
    "lenName": 16,
    "lenType": 16,
    "lenVar": 40
   },
   "kernels_config": {
    "python": {
     "delete_cmd_postfix": "",
     "delete_cmd_prefix": "del ",
     "library": "var_list.py",
     "varRefreshCmd": "print(var_dic_list())"
    },
    "r": {
     "delete_cmd_postfix": ") ",
     "delete_cmd_prefix": "rm(",
     "library": "var_list.r",
     "varRefreshCmd": "cat(var_dic_list()) "
    }
   },
   "types_to_exclude": [
    "module",
    "function",
    "builtin_function_or_method",
    "instance",
    "_Feature"
   ],
   "window_display": false
  }
 },
 "nbformat": 4,
 "nbformat_minor": 2
}
