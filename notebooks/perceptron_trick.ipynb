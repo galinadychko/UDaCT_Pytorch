{
 "cells": [
  {
   "cell_type": "code",
   "execution_count": 1,
   "metadata": {
    "ExecuteTime": {
     "end_time": "2019-09-13T09:38:33.419846Z",
     "start_time": "2019-09-13T09:38:33.109961Z"
    }
   },
   "outputs": [],
   "source": [
    "import numpy as np\n",
    "from typing import Dict, Tuple, Union, List, Iterable\n",
    "import os\n",
    "\n",
    "from matplotlib import pyplot as plt\n",
    "from matplotlib.lines import Line2D\n",
    "from matplotlib import rc\n",
    "\n",
    "%load_ext autoreload\n",
    "%autoreload 2"
   ]
  },
  {
   "cell_type": "markdown",
   "metadata": {},
   "source": [
    "<div class=\"alert alert-success\" role=\"alert\">\n",
    "<a href=\"#\" class=\"close\" data-dismiss=\"alert\" aria-label=\"close\">&times;</a>\n",
    "  <i class=\"fa fa-question-circle\" style=\"font-size:22px;color:green\"></i> <strong><u><font size=5> Task: </font></u></strong> <br/>\n",
    "    <hr>\n",
    "    <font size=5>Implement the perceptron algorithm to separate the given data.</font>\n",
    "</div>"
   ]
  },
  {
   "cell_type": "markdown",
   "metadata": {
    "ExecuteTime": {
     "end_time": "2019-09-03T09:42:14.943364Z",
     "start_time": "2019-09-03T09:42:14.921397Z"
    }
   },
   "source": [
    "Let`s download data from [google drive](https://drive.google.com/drive/u/0/folders/1USmxeWvVRBK4YcLebl9bICx_q2zcrWJN) by running file **load_data.py**"
   ]
  },
  {
   "cell_type": "code",
   "execution_count": 2,
   "metadata": {
    "ExecuteTime": {
     "end_time": "2019-09-13T09:38:33.437001Z",
     "start_time": "2019-09-13T09:38:33.421512Z"
    }
   },
   "outputs": [],
   "source": [
    "PROJECT_PATH =  os.getcwd() + \"/../\"\n",
    "DATA_LOADING_FILE = PROJECT_PATH + 'tools/load_data.py'\n",
    "SAVE_PATH = PROJECT_PATH + \"data/\"\n",
    "SAVE_NAME = \"data.csv\""
   ]
  },
  {
   "cell_type": "code",
   "execution_count": 3,
   "metadata": {
    "ExecuteTime": {
     "end_time": "2019-09-13T09:38:34.798196Z",
     "start_time": "2019-09-13T09:38:33.439256Z"
    }
   },
   "outputs": [],
   "source": [
    "%run -i {DATA_LOADING_FILE} --save-path={SAVE_PATH} --save-name={SAVE_NAME}"
   ]
  },
  {
   "cell_type": "markdown",
   "metadata": {},
   "source": [
    "<div style=\"text-align: center\"><font size=5><b>Recall that the perceptron step works as follows:</b><br/></div>\n",
    "\n",
    "> For a point with coordinates *(p,q)*, label *y* and prediction given by the equation:\n",
    "\n",
    "$$\\hat{y} = step(w_1x_1 + w_2x_2 + b)$$\n",
    "\n",
    "\n",
    "$$step(x) = \n",
    "    \\begin{cases}\n",
    "        0, &  x < 0 \\\\    \n",
    "        1, &  x \\ge 0 \\\\    \n",
    "\\end{cases}$$\n",
    "\n",
    "* If the point is correctly classified, do nothing.<br/>\n",
    "* If the point is classified positive, but it has a negative label, subtract $\\alpha p$, $\\alpha q$ and $\\alpha$ from $w_1$, $w_2$ and $b$ respectively.\n",
    "* If the point is classified negative, but it has a positive label, add $\\alpha p$, $\\alpha q$ and $\\alpha$ to $w_1$, $w_2$ and $b$ respectively."
   ]
  },
  {
   "cell_type": "markdown",
   "metadata": {},
   "source": [
    "Let us use axilliary functions for building boundary line."
   ]
  },
  {
   "cell_type": "code",
   "execution_count": 4,
   "metadata": {
    "ExecuteTime": {
     "end_time": "2019-09-13T09:38:34.842333Z",
     "start_time": "2019-09-13T09:38:34.809288Z"
    }
   },
   "outputs": [],
   "source": [
    "# Step function, which helps us to convert each prediction score to the coresspining class labels.\n",
    "def stepFunction(x: Union[np.ndarray, float]) -> Union[np.ndarray, int]:\n",
    "    \"\"\"\n",
    "    Convert negative values into 0 and not negative into 1.\n",
    "\n",
    "    Parameters\n",
    "    ----------\n",
    "    :param x: np.ndarray OR float: input object for conversion\n",
    "    \n",
    "    Returns\n",
    "    --------\n",
    "    np.ndarray\n",
    "              Array, where 0 located at places with negative value and -1 - otherwise.\n",
    "    \"\"\"\n",
    "    if (type(x) == int) or (type(x) == float):\n",
    "        return 1 - int(x < 0)\n",
    "    else:\n",
    "        return 1 - (x < 0).astype(int)\n",
    "    \n",
    "\n",
    "def prediction(X: np.ndarray, \n",
    "               W: np.ndarray, \n",
    "               b: float) -> np.ndarray:\n",
    "    \"\"\"\n",
    "    Define the most suitable class based on features of each observation\n",
    "    \n",
    "    Parameters\n",
    "    ----------\n",
    "    :param X: np.ndarray: Data matrix, where each row corresponds to the \n",
    "                          appropriate object and each column - to its feature\n",
    "    :param W: np.ndarray: Weights of linear separator in format: \n",
    "                            np.array([A, B]),\n",
    "                          while model is described by the following way\n",
    "                            Ax + By + b = 0\n",
    "    :param b: float: Bias of linear separator\n",
    "    \n",
    "    Returns\n",
    "    ---------\n",
    "    np.ndarray\n",
    "              Predicted class label(s) for the input object(s)\n",
    "    \"\"\"\n",
    "    pred = X.dot(W.T) + b\n",
    "    return stepFunction(pred).reshape(-1)\n"
   ]
  },
  {
   "cell_type": "code",
   "execution_count": 5,
   "metadata": {
    "ExecuteTime": {
     "end_time": "2019-09-13T09:38:34.869258Z",
     "start_time": "2019-09-13T09:38:34.844849Z"
    },
    "code_folding": []
   },
   "outputs": [],
   "source": [
    "# ------------------------------------------------------------------------------\n",
    "# TODO: \n",
    "#         Fill in the code below to implement the perceptron trick.\n",
    "#         The function should receive as inputs the data X, the labels y,\n",
    "#         the weights W (as an array), and the bias b,\n",
    "#         update the weights and bias W, b, according to the perceptron algorithm,\n",
    "#         and return W and b.\n",
    "# ------------------------------------------------------------------------------    \n",
    "    \n",
    "def perceptronStep(X: np.ndarray,\n",
    "                   y: np.ndarray,\n",
    "                   W: np.ndarray,\n",
    "                   b: float,\n",
    "                   learn_rate: float) -> Tuple[np.ndarray, float]:\n",
    "    \"\"\"\n",
    "    Update input model`s parameters so that,\n",
    "    the classification result accurasy increases\n",
    "\n",
    "    Parameters\n",
    "    ----------\n",
    "    :param X: np.ndarray: Data matrix, where each row corresponds to the\n",
    "                          appropriate object and each column - to its feature\n",
    "    :param y: np.ndarray: array of class labels, oreder of which corresponds\n",
    "                          to the X matrix`s order.\n",
    "                          Values should be 1 or 0.\n",
    "    :param W: np.ndarray: Weights of linear separator in format:\n",
    "                            np.array([A, B]),\n",
    "                          while model is described in the following way\n",
    "                            Ax + By + b = 0\n",
    "    :param b: float OR int: Bias of linear separator\n",
    "    :learn_rate: float OR int: the  extent of weights updating\n",
    "\n",
    "    Returns\n",
    "    ---------\n",
    "    (np.ndarray, float)\n",
    "                       Updated weights and bias of the input linear model\n",
    "    \"\"\"\n",
    "    n_obs, n_feat = 1, 1\n",
    "    if not isinstance(W, np.ndarray):\n",
    "        raise TypeError(\"Not correct W type\")\n",
    "    if len(X.shape) == 2:\n",
    "        n_obs, n_feat = X.shape\n",
    "    if len(X.shape) == 1:\n",
    "        n_obs = len(X)\n",
    "    if n_obs != len(y):\n",
    "        raise ValueError(\"Different number of observations in X and y data\")\n",
    "\n",
    "    W = np.float64(W)\n",
    "    b = float(b)\n",
    "\n",
    "    y_pred = prediction(X, W, b)\n",
    "    W_minus_ind = np.where((y == 0) & (y_pred != y))[0]\n",
    "    W_minus = - learn_rate * np.sum(X[W_minus_ind], axis=0)\n",
    "\n",
    "    W_plus_ind = np.where((y == 1) & (y_pred != y))[0]\n",
    "    W_plus = learn_rate * np.sum(X[W_plus_ind], axis=0)\n",
    "\n",
    "    b = b + learn_rate * (len(W_plus_ind) - len(W_minus_ind))\n",
    "    return W + W_minus + W_plus, b"
   ]
  },
  {
   "cell_type": "markdown",
   "metadata": {},
   "source": [
    "This function runs the perceptron algorithm repeatedly on the dataset,<br/>\n",
    "and returns a few of the boundary lines obtained in the iterations,<br/>\n",
    "for plotting purposes.<br/>\n",
    "***\n",
    "Feel free to play with the learning rate and the num_epochs,\n",
    "and see your results plotted below.<br/>"
   ]
  },
  {
   "cell_type": "code",
   "execution_count": 6,
   "metadata": {
    "ExecuteTime": {
     "end_time": "2019-09-13T09:38:34.895416Z",
     "start_time": "2019-09-13T09:38:34.871137Z"
    }
   },
   "outputs": [],
   "source": [
    "def trainPerceptronAlgorithm(X: np.ndarray, \n",
    "                             y: np.ndarray, \n",
    "                             learn_rate: float = 0.01,\n",
    "                             num_epochs: int = 25) -> List:\n",
    "    \"\"\"\n",
    "    Find the most suitable parameters of linear model for class separation task\n",
    "    \n",
    "    Parameters \n",
    "    ----------\n",
    "    :param X: np.ndarray: Data matrix, where each row corresponds to the \n",
    "                          appropriate object and each column - to its feature\n",
    "    :param y: np.ndarray: array of class labels, which corresponds to the X matrix`s observations.\n",
    "                          Values should be 1 or 0.\n",
    "    :param learn_rate: float: the  extent of weights updating\n",
    "    :param num_epochs: int: number of steps for searching the most suitable parameters\n",
    "    \n",
    "    Returns\n",
    "    -------\n",
    "    List\n",
    "        The most suitable model parameters for each epoch\n",
    "    \"\"\"\n",
    "    if not isinstance(X, np.ndarray):\n",
    "        raise TypeError(\"Not correct X type\")\n",
    "    if not isinstance(y, np.ndarray):\n",
    "        raise TypeError(\"Not correct y type\")\n",
    "    if not isinstance(learn_rate, (float, int)):\n",
    "        raise TypeError(\"Not correct learn_rate type\")\n",
    "    if not isinstance(num_epochs, int):\n",
    "        raise TypeError(\"Not correct num_epochs type\")\n",
    "        \n",
    "    x_min, x_max = min(X.T[0]), max(X.T[0])\n",
    "    np.random.seed(42)\n",
    "    W = np.random.rand(1, 2)\n",
    "    np.random.seed(42)\n",
    "    b = np.random.rand(1)[0] + x_max\n",
    "    # These are the solution lines that get plotted below.\n",
    "    boundary_lines = []\n",
    "    for i in range(num_epochs):\n",
    "        # In each epoch, we apply the perceptron step.\n",
    "        W, b = perceptronStep(X, y, W, b, learn_rate)\n",
    "        boundary_lines.append((-W[0, 0]/W[0, 1], -b/W[0, 1]))\n",
    "    return boundary_lines"
   ]
  },
  {
   "cell_type": "code",
   "execution_count": 7,
   "metadata": {
    "ExecuteTime": {
     "end_time": "2019-09-13T09:38:34.915015Z",
     "start_time": "2019-09-13T09:38:34.897287Z"
    }
   },
   "outputs": [],
   "source": [
    "# load data\n",
    "data = np.genfromtxt('../data/data.csv', delimiter=',')"
   ]
  },
  {
   "cell_type": "code",
   "execution_count": 8,
   "metadata": {
    "ExecuteTime": {
     "end_time": "2019-09-13T09:38:34.932942Z",
     "start_time": "2019-09-13T09:38:34.919084Z"
    }
   },
   "outputs": [],
   "source": [
    "# split it into features and labels\n",
    "X = data[:, :2]\n",
    "y = data[:, 2]"
   ]
  },
  {
   "cell_type": "code",
   "execution_count": 9,
   "metadata": {
    "ExecuteTime": {
     "end_time": "2019-09-13T09:38:34.960084Z",
     "start_time": "2019-09-13T09:38:34.936608Z"
    }
   },
   "outputs": [],
   "source": [
    "# take the model of the last epoch\n",
    "boundary_lines = trainPerceptronAlgorithm(X, y, learn_rate = 0.01, num_epochs =100)\n",
    "final_line = boundary_lines[-1]\n",
    "\n",
    "# make computation for line plotting\n",
    "x_range = np.arange(0., 1., .1)\n",
    "y_range = x_range * final_line[0] + final_line[1]"
   ]
  },
  {
   "cell_type": "code",
   "execution_count": 10,
   "metadata": {
    "ExecuteTime": {
     "end_time": "2019-09-13T09:38:35.017477Z",
     "start_time": "2019-09-13T09:38:34.961798Z"
    },
    "code_folding": []
   },
   "outputs": [],
   "source": [
    "# plot data objects and boundary line\n",
    "def plot_separation(X_data: np.ndarray,\n",
    "                    y_data: np.ndarray,\n",
    "                    line_params: Dict[str, float]) -> None:\n",
    "    rc('axes', edgecolor='lightgray')\n",
    "    fig = plt.figure(figsize=(8, 6))\n",
    "\n",
    "    ax = fig.add_subplot()\n",
    "\n",
    "    ax.scatter(X_data[:, 0], X_data[:, 1], c=y_data.astype(int))\n",
    "\n",
    "    line_ax = np.arange(0., 1., .1)\n",
    "    line_ay = line_ax * line_params[\"k\"] + line_params[\"b\"]\n",
    "\n",
    "    ax.plot(line_ax, line_ay, ls=\"solid\", c=\"red\")\n",
    "\n",
    "    miss_clasified_id = np.where(y_data != prediction(X_data, np.array([line_params[\"k\"], -1]), line_params[\"b\"]))\n",
    "    ax.scatter(X_data[miss_clasified_id, 0], X_data[miss_clasified_id, 1], c=\"red\", alpha=0.1, s=145)\n",
    "\n",
    "    ax.set_xlabel(\"Feature 1\")\n",
    "    ax.set_ylabel(\"Feature 2\")\n",
    "\n",
    "    legend_elements = [Line2D([0], [0], color='r', lw=4,\n",
    "                              label='Boundary line\\ny={}x + {}'.format(round(line_params[\"k\"], 2), round(line_params[\"b\"]))),\n",
    "                       Line2D([0], [0], color=\"w\",\n",
    "                              marker=\"o\", markerfacecolor=\"yellow\", label='Class 1'),\n",
    "                       Line2D([0], [0], color=\"w\",\n",
    "                              marker=\"o\", markerfacecolor=\"#5e0087\", label='Class 0'),\n",
    "                       Line2D([0], [0], color=\"w\",\n",
    "                              marker=\"o\", markerfacecolor=\"#FF9933\", markeredgecolor=\"#FFCCCC\",\n",
    "                              markersize=10, markeredgewidth=3, label='Missclassified')\n",
    "                       ]\n",
    "    plt.grid(alpha=0.3)\n",
    "    ax.legend(handles=legend_elements, loc='upper right', bbox_to_anchor=(1., 1.))\n",
    "    plt.title(\"Classification model\\nbased on the perceptron trick\", fontdict={\"size\": 20})\n",
    "    plt.show()"
   ]
  },
  {
   "cell_type": "code",
   "execution_count": 11,
   "metadata": {
    "ExecuteTime": {
     "end_time": "2019-09-13T09:38:35.427223Z",
     "start_time": "2019-09-13T09:38:35.019565Z"
    }
   },
   "outputs": [
    {
     "data": {
      "image/png": "[encoded data removed]",
      "text/plain": [
       "<Figure size 576x432 with 1 Axes>"
      ]
     },
     "metadata": {
      "needs_background": "light"
     },
     "output_type": "display_data"
    }
   ],
   "source": [
    "# plot the results\n",
    "plot_separation(X_data=X, y_data=y,\n",
    "                    line_params={\"k\": final_line[0], \"b\": final_line[1]})"
   ]
  },
  {
   "cell_type": "code",
   "execution_count": null,
   "metadata": {},
   "outputs": [],
   "source": []
  }
 ],
 "metadata": {
  "hide_input": false,
  "kernelspec": {
   "display_name": "UDaCT",
   "language": "python",
   "name": "udact"
  },
  "language_info": {
   "codemirror_mode": {
    "name": "ipython",
    "version": 3
   },
   "file_extension": ".py",
   "mimetype": "text/x-python",
   "name": "python",
   "nbconvert_exporter": "python",
   "pygments_lexer": "ipython3",
   "version": "3.7.4"
  },
  "toc": {
   "base_numbering": 1,
   "nav_menu": {},
   "number_sections": true,
   "sideBar": true,
   "skip_h1_title": false,
   "title_cell": "Table of Contents",
   "title_sidebar": "Contents",
   "toc_cell": false,
   "toc_position": {},
   "toc_section_display": true,
   "toc_window_display": false
  },
  "varInspector": {
   "cols": {
    "lenName": 16,
    "lenType": 16,
    "lenVar": 40
   },
   "kernels_config": {
    "python": {
     "delete_cmd_postfix": "",
     "delete_cmd_prefix": "del ",
     "library": "var_list.py",
     "varRefreshCmd": "print(var_dic_list())"
    },
    "r": {
     "delete_cmd_postfix": ") ",
     "delete_cmd_prefix": "rm(",
     "library": "var_list.r",
     "varRefreshCmd": "cat(var_dic_list()) "
    }
   },
   "types_to_exclude": [
    "module",
    "function",
    "builtin_function_or_method",
    "instance",
    "_Feature"
   ],
   "window_display": false
  }
 },
 "nbformat": 4,
 "nbformat_minor": 2
}
